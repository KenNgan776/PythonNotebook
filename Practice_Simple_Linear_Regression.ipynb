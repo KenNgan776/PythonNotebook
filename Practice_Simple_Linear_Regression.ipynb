{
  "nbformat": 4,
  "nbformat_minor": 0,
  "metadata": {
    "colab": {
      "provenance": [],
      "authorship_tag": "ABX9TyM+HIwHK1Jo+7VN3T5KTMtI",
      "include_colab_link": true
    },
    "kernelspec": {
      "name": "python3",
      "display_name": "Python 3"
    },
    "language_info": {
      "name": "python"
    }
  },
  "cells": [
    {
      "cell_type": "markdown",
      "metadata": {
        "id": "view-in-github",
        "colab_type": "text"
      },
      "source": [
        "<a href=\"https://colab.research.google.com/github/KenNgan776/PythonNotebook/blob/main/Practice_Simple_Linear_Regression.ipynb\" target=\"_parent\"><img src=\"https://colab.research.google.com/assets/colab-badge.svg\" alt=\"Open In Colab\"/></a>"
      ]
    },
    {
      "cell_type": "code",
      "execution_count": 11,
      "metadata": {
        "id": "zlJEOTWza2Tw"
      },
      "outputs": [],
      "source": [
        "import pandas as pd\n",
        "import matplotlib.pyplot as plt"
      ]
    },
    {
      "cell_type": "code",
      "source": [
        "df = pd.read_csv('student_scores.csv')\n",
        "df.head()"
      ],
      "metadata": {
        "id": "NqwdKE23gZSO"
      },
      "execution_count": null,
      "outputs": []
    },
    {
      "cell_type": "code",
      "source": [
        "df.shape"
      ],
      "metadata": {
        "id": "xR_OhOcOjhk-"
      },
      "execution_count": null,
      "outputs": []
    },
    {
      "cell_type": "code",
      "source": [
        "X = df.drop('Scores', axis=1)\n",
        "y = df['Scores']"
      ],
      "metadata": {
        "id": "LYrlhBSDjppR"
      },
      "execution_count": null,
      "outputs": []
    },
    {
      "cell_type": "code",
      "source": [
        "plt.figure(figsize=(4,4))\n",
        "\n",
        "plt.scatter(X, y)\n",
        "plt.xlabel('Hours')\n",
        "plt.ylabel('Scores')\n",
        "plt.grid(True)\n",
        "\n",
        "plt.show()"
      ],
      "metadata": {
        "id": "7Iwi0orFkFsn"
      },
      "execution_count": null,
      "outputs": []
    },
    {
      "cell_type": "code",
      "source": [
        "from sklearn import datasets, model_selection\n",
        "from sklearn.model_selection import train_test_split\n",
        "from sklearn.metrics import mean_squared_error, mean_absolute_error"
      ],
      "metadata": {
        "id": "CFgUsi4JkufN"
      },
      "execution_count": 16,
      "outputs": []
    },
    {
      "cell_type": "code",
      "source": [
        "X_train, X_test, y_train, y_test = train_test_split(X, y, test_size=0.2, random_state=23)"
      ],
      "metadata": {
        "id": "1iF29XD0lTBX"
      },
      "execution_count": null,
      "outputs": []
    },
    {
      "cell_type": "code",
      "source": [
        "from sklearn.linear_model import LinearRegression\n",
        "\n",
        "model = LinearRegression()\n",
        "\n",
        "model.fit(X_train, y_train)"
      ],
      "metadata": {
        "id": "3N5BRSNzlkro"
      },
      "execution_count": null,
      "outputs": []
    },
    {
      "cell_type": "code",
      "source": [
        "alpha = model.intercept_\n",
        "beta = model.coef_\n",
        "\n",
        "print(\"alpha\", \"{:.2f}\".format(alpha))\n",
        "print(\"beta\", beta)\n",
        "\n",
        "print(f\"y = {alpha} + {beta}X\")"
      ],
      "metadata": {
        "id": "GJPgLg0TmNM7"
      },
      "execution_count": null,
      "outputs": []
    },
    {
      "cell_type": "code",
      "source": [
        "y_pred_train = model.predict(X_train)\n",
        "y_pred_test = model.predict(X_test)"
      ],
      "metadata": {
        "id": "YMZmymLXnejE"
      },
      "execution_count": null,
      "outputs": []
    },
    {
      "cell_type": "code",
      "source": [
        "plt.figure(figsize=(7,3))\n",
        "\n",
        "#subplot 1\n",
        "plt.subplot(1, 2, 1)\n",
        "plt.scatter(y_train, y_pred_train)\n",
        "plt.title('Training case', fontsize=10)\n",
        "plt.xlabel('Hours')\n",
        "plt.ylabel('Scores')\n",
        "plt.grid(True)\n",
        "\n",
        "#subplot 2\n",
        "plt.subplot(1, 2, 2)\n",
        "plt.scatter(y_test, y_pred_test)\n",
        "plt.title('Training case', fontsize=10)\n",
        "plt.xlabel('Hours')\n",
        "plt.ylabel('Scores')\n",
        "plt.grid(True)\n",
        "\n",
        "plt.show()"
      ],
      "metadata": {
        "id": "uGX0JzqQnnCX"
      },
      "execution_count": null,
      "outputs": []
    },
    {
      "cell_type": "code",
      "source": [
        "mse_train = mean_squared_error(y_train, y_pred_train)\n",
        "mae_train = mean_absolute_error(y_train, y_pred_train)\n",
        "\n",
        "mse_test = mean_squared_error(y_test, y_pred_test)\n",
        "mae_test = mean_absolute_error(y_test, y_pred_test)"
      ],
      "metadata": {
        "id": "_ij5ktk-peWu"
      },
      "execution_count": null,
      "outputs": []
    },
    {
      "cell_type": "code",
      "source": [
        "# creat a dataframe of the results\n",
        "\n",
        "performance_df = pd.DataFrame({\n",
        "    'Metric': ['MSE', 'MAE', 'MSE', 'MAE'],\n",
        "    'DataType': ['train','test','train', 'test'],\n",
        "    'Values': [mse_train, mae_train, mse_test, mae_test]\n",
        "})\n",
        "\n",
        "performance_df.T"
      ],
      "metadata": {
        "id": "Ve8qvpfSpz3H"
      },
      "execution_count": null,
      "outputs": []
    }
  ]
}